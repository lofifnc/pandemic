{
 "cells": [
  {
   "cell_type": "code",
   "execution_count": 148,
   "metadata": {
    "collapsed": true,
    "pycharm": {
     "is_executing": false
    }
   },
   "outputs": [],
   "source": [
    "from pandemic.simulation.model import constants\n",
    "from pandemic.simulation.model.actions import DriveFerry, DiscoverCure, ChooseCard\n",
    "from pandemic.simulation.model.city_id import Card\n",
    "from pandemic.simulation.model.enums import Character, Virus\n",
    "from pandemic.simulation.simulation import Simulation\n",
    "from pandemic.learning.easy_mode import easy_state\n",
    "\n",
    "env = Simulation(\n",
    "    characters={Character.QUARANTINE_SPECIALIST, Character.SCIENTIST},\n",
    "    num_epidemic_cards=4,\n",
    "    player_deck_shuffle_seed=5,\n",
    "    infect_deck_shuffle_seed=10,\n",
    "    epidemic_shuffle_seed=12,\n",
    ")\n",
    "\n",
    "env.state.internal_state = easy_state"
   ]
  },
  {
   "cell_type": "code",
   "execution_count": 149,
   "outputs": [
    {
     "name": "stdout",
     "text": [
      "{5: [('blue', 24), ('blue', 1), ('blue', 10), ('blue', 43)], 7: [('yellow', 40), ('yellow', 25), ('yellow', 19), ('yellow', 17)]}\n",
      "[('blue', 38), ('black', 3), ('red', 42), ('red', 44), ('black', 8), ('black', 37), ('red', 4), ('red', 13), ('black', 9), ('black', 32), ('red', 41), ('red', 5), ('blue', 26), ('yellow', 20), (2, 59), (3, 53), (2, 56), (2, 57), ('red', 27), ('black', 33), ('yellow', 7), ('yellow', 23), ('blue', 36), ('yellow', 39), ('black', 46), ('black', 21), ('yellow', 22), ('yellow', 28), ('red', 47), (3, 52), ('black', 11), ('yellow', 29), ('blue', 12), ('blue', 34), ('red', 14), ('red', 35), ('black', 18), ('black', 15), ('blue', 2), ('blue', 48), ('red', 45), (3, 54), (2, 58), (2, 55), ('yellow', 6), ('blue', 30), (3, 51), ('red', 16), ('blue', 31)]\n",
      "lost? 1\n",
      "[('red', 42), ('red', 44), ('black', 8), ('black', 37), ('red', 4), ('red', 13), ('black', 9), ('black', 32), ('red', 41), ('red', 5), ('blue', 26), ('yellow', 20), (2, 59), (3, 53), (2, 56), (2, 57), ('red', 27), ('black', 33), ('yellow', 7), ('yellow', 23), ('blue', 36), ('yellow', 39), ('black', 46), ('black', 21), ('yellow', 22), ('yellow', 28), ('red', 47), (3, 52), ('black', 11), ('yellow', 29), ('blue', 12), ('blue', 34), ('red', 14), ('red', 35), ('black', 18), ('black', 15), ('blue', 2), ('blue', 48), ('red', 45), (3, 54), (2, 58), (2, 55), ('yellow', 6), ('blue', 30), (3, 51), ('red', 16), ('blue', 31)]\n",
      "{5: [('blue', 1), ('black', 3), ('blue', 38), ('blue', 24), ('blue', 10), ('blue', 43)], 7: [('red', 42), ('red', 44)]}\n",
      "PlayerState(city=2, _city_cards={1, 3, 38, 10, 43, 24}, _event_cards=set(), _contingency_planner_event_card=None, _contingency_planner_city_card=None, _operations_expert_special_shuttle=True, _num_cards=6, _city_colors=defaultdict(<class 'int'>, {1: 5, 3: 0, 4: 1}))\n",
      "{5: [('black', 8), ('black', 3), ('black', 37)], 7: [('red', 42), ('red', 44)]}\n",
      "[('red', 4), ('red', 13), ('black', 9), ('black', 32), ('red', 41), ('red', 5), ('blue', 26), ('yellow', 20), (2, 59), (3, 53), (2, 56), (2, 57), ('red', 27), ('black', 33), ('yellow', 7), ('yellow', 23), ('blue', 36), ('yellow', 39), ('black', 46), ('black', 21), ('yellow', 22), ('yellow', 28), ('red', 47), (3, 52), ('black', 11), ('yellow', 29), ('blue', 12), ('blue', 34), ('red', 14), ('red', 35), ('black', 18), ('black', 15), ('blue', 2), ('blue', 48), ('red', 45), (3, 54), (2, 58), (2, 55), ('yellow', 6), ('blue', 30), (3, 51), ('red', 16), ('blue', 31)]\n",
      "{5: [('black', 8), ('black', 3), ('black', 37)], 7: [('red', 42), ('red', 13), ('red', 44), ('red', 4)]}\n",
      "[('black', 9), ('black', 32), ('red', 41), ('red', 5), ('blue', 26), ('yellow', 20), (2, 59), (3, 53), (2, 56), (2, 57), ('red', 27), ('black', 33), ('yellow', 7), ('yellow', 23), ('blue', 36), ('yellow', 39), ('black', 46), ('black', 21), ('yellow', 22), ('yellow', 28), ('red', 47), (3, 52), ('black', 11), ('yellow', 29), ('blue', 12), ('blue', 34), ('red', 14), ('red', 35), ('black', 18), ('black', 15), ('blue', 2), ('blue', 48), ('red', 45), (3, 54), (2, 58), (2, 55), ('yellow', 6), ('blue', 30), (3, 51), ('red', 16), ('blue', 31)]\n",
      "lost? 1\n",
      "{5: [('black', 32), ('black', 3), ('black', 37), ('black', 8), ('black', 9)], 7: [('red', 42), ('red', 13), ('red', 44), ('red', 4)]}\n",
      "lost? 1\n",
      "lost? 1\n",
      "lost? 1\n",
      "lost? 2\n"
     ],
     "output_type": "stream"
    }
   ],
   "source": [
    "state = env.state.internal_state\n",
    "\n",
    "def card_info(card):\n",
    "    return (Virus.color(constants.CITY_COLORS[card]) if Card.card_type(card) == Card.CITY else Card.card_type(card), card)\n",
    "\n",
    "\n",
    "print({p: [card_info(c) for c in s.cards] for p, s in state.players.items()})\n",
    "print([card_info(c) for c in state.player_deck])\n",
    "\n",
    "## test\n",
    "env.step(DriveFerry(player=5, destination=48))\n",
    "env.step(DriveFerry(player=5, destination=34))\n",
    "env.step(DriveFerry(player=5, destination=48))\n",
    "env.step(DriveFerry(player=5, destination=2))\n",
    "env.step(None)\n",
    "env.step(None)\n",
    "env.step(None)\n",
    "env.step(None)\n",
    "print(\"lost?\", env.state.game_state)\n",
    "print([card_info(c) for c in state.player_deck])\n",
    "\n",
    "env.step(DiscoverCure(target_virus=3))\n",
    "env.get_possible_actions()\n",
    "env.step(ChooseCard(player=7, card=40))\n",
    "env.step(ChooseCard(player=7, card=25))\n",
    "env.step(ChooseCard(player=7, card=19))\n",
    "env.step(ChooseCard(player=7, card=17))\n",
    "env.step(DriveFerry(player=7, destination=48))\n",
    "env.step(DriveFerry(player=7, destination=29))\n",
    "env.step(DriveFerry(player=7, destination=2))\n",
    "env.step(None)\n",
    "env.step(None)\n",
    "env.step(None)\n",
    "env.step(None)\n",
    "\n",
    "print({p: [card_info(c) for c in s.cards] for p, s in state.players.items()})\n",
    "print(env.state.players[Character.QUARANTINE_SPECIALIST])\n",
    "env.step(DiscoverCure(target_virus=1))\n",
    "env.get_possible_actions( )\n",
    "env.step(ChooseCard(player=5, card=1))\n",
    "env.step(ChooseCard(player=5, card=38))\n",
    "env.step(ChooseCard(player=5, card=10))\n",
    "env.step(ChooseCard(player=5, card=43))\n",
    "env.step(ChooseCard(player=5, card=24))\n",
    "env.step(DriveFerry(player=5, destination=48))\n",
    "env.step(DriveFerry(player=5, destination=29))\n",
    "env.step(DriveFerry(player=5, destination=2))\n",
    "env.step(None)\n",
    "env.step(None)\n",
    "env.step(None)\n",
    "env.step(None)\n",
    "\n",
    "print({p: [card_info(c) for c in s.cards] for p, s in state.players.items()})\n",
    "print([card_info(c) for c in state.player_deck])\n",
    "\n",
    "env.step(DriveFerry(player=7, destination=48))\n",
    "env.step(DriveFerry(player=7, destination=34))\n",
    "env.step(DriveFerry(player=7, destination=48))\n",
    "env.step(DriveFerry(player=7, destination=2))\n",
    "env.step(None)\n",
    "env.step(None)\n",
    "env.step(None)\n",
    "env.step(None)\n",
    "print({p: [card_info(c) for c in s.cards] for p, s in state.players.items()})\n",
    "print([card_info(c) for c in state.player_deck])\n",
    "\n",
    "env.step(DriveFerry(player=5, destination=48))\n",
    "env.step(DriveFerry(player=5, destination=34))\n",
    "env.step(DriveFerry(player=5, destination=48))\n",
    "env.step(DriveFerry(player=5, destination=2))\n",
    "env.step(None)\n",
    "env.step(None)\n",
    "env.step(None)\n",
    "env.step(None)\n",
    "\n",
    "print(\"lost?\", env.state.game_state)\n",
    "print({p: [card_info(c) for c in s.cards] for p, s in state.players.items()})\n",
    "env.step(DiscoverCure(target_virus=2))\n",
    "env.get_possible_actions()\n",
    "print(\"lost?\", env.state.game_state)\n",
    "env.step(ChooseCard(player=7, card=42))\n",
    "env.step(ChooseCard(player=7, card=4))\n",
    "env.step(ChooseCard(player=7, card=44))\n",
    "env.step(ChooseCard(player=7, card=13))\n",
    "env.step(DriveFerry(player=7, destination=48))\n",
    "env.step(DriveFerry(player=7, destination=29))\n",
    "env.step(DriveFerry(player=7, destination=2))\n",
    "env.step(None)\n",
    "env.step(None)\n",
    "env.step(None)\n",
    "env.step(None)\n",
    "print(\"lost?\", env.state.game_state)\n",
    "env.get_possible_actions()\n",
    "env.step(DiscoverCure(target_virus=4))\n",
    "env.get_possible_actions()\n",
    "print(\"lost?\", env.state.game_state)\n",
    "env.get_possible_actions()\n",
    "env.step(ChooseCard(player=5, card=32))\n",
    "env.step(ChooseCard(player=5, card=3))\n",
    "env.step(ChooseCard(player=5, card=37))\n",
    "env.step(ChooseCard(player=5, card=8))\n",
    "env.step(ChooseCard(player=5, card=9))\n",
    "print(\"lost?\", env.state.game_state)"
   ],
   "metadata": {
    "collapsed": false,
    "pycharm": {
     "name": "#%%\n",
     "is_executing": false
    }
   }
  }
 ],
 "metadata": {
  "kernelspec": {
   "display_name": "Python 3",
   "language": "python",
   "name": "python3"
  },
  "language_info": {
   "codemirror_mode": {
    "name": "ipython",
    "version": 2
   },
   "file_extension": ".py",
   "mimetype": "text/x-python",
   "name": "python",
   "nbconvert_exporter": "python",
   "pygments_lexer": "ipython2",
   "version": "2.7.6"
  },
  "pycharm": {
   "stem_cell": {
    "cell_type": "raw",
    "source": [],
    "metadata": {
     "collapsed": false
    }
   }
  }
 },
 "nbformat": 4,
 "nbformat_minor": 0
}